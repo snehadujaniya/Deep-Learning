{
 "cells": [
  {
   "cell_type": "markdown",
   "metadata": {},
   "source": [
    "### Counting total folders and files"
   ]
  },
  {
   "cell_type": "code",
   "execution_count": 3,
   "metadata": {},
   "outputs": [
    {
     "name": "stdout",
     "output_type": "stream",
     "text": [
      "46 classes, 78200 total images\n"
     ]
    }
   ],
   "source": [
    "import os\n",
    "path = r\"C:\\Users\\ABC\\Documents\\IBM AI 6th sem\\2. Deep Learning\\11. CNN 13-03\\17 CNN Based Case Study\\Data\\Train\"\n",
    "files = folders = 0\n",
    "count_images = []\n",
    "for _, dirnames, filenames in os.walk(path):\n",
    "\n",
    "    files += len(filenames)\n",
    "    folders += len(dirnames)\n",
    "    count_images.append(len(filenames))\n",
    "\n",
    "print(folders ,\"classes,\", files, \"total images\")"
   ]
  },
  {
   "cell_type": "code",
   "execution_count": 7,
   "metadata": {},
   "outputs": [
    {
     "data": {
      "text/plain": [
       "46"
      ]
     },
     "execution_count": 7,
     "metadata": {},
     "output_type": "execute_result"
    }
   ],
   "source": [
    "len(count_images)"
   ]
  },
  {
   "cell_type": "code",
   "execution_count": 6,
   "metadata": {},
   "outputs": [],
   "source": [
    "count_images.remove(0)"
   ]
  },
  {
   "cell_type": "markdown",
   "metadata": {},
   "source": [
    "### Reading images and making X_train data"
   ]
  },
  {
   "cell_type": "code",
   "execution_count": 8,
   "metadata": {},
   "outputs": [],
   "source": [
    "import cv2\n",
    "import numpy as np\n",
    "import glob\n",
    "\n",
    "folders = glob.glob(r'C:\\Users\\ABC\\Documents\\IBM AI 6th sem\\2. Deep Learning\\11. CNN 13-03\\17 CNN Based Case Study\\Data\\Train\\*')\n",
    "imagenames_list = []\n",
    "\n",
    "for folder in folders:\n",
    "    for f in glob.glob(folder+'/*.*'):\n",
    "        imagenames_list.append(f)\n",
    "\n",
    "x_train = []\n",
    "for image in imagenames_list:\n",
    "    x_train.append(cv2.imread(image, cv2.IMREAD_GRAYSCALE))"
   ]
  },
  {
   "cell_type": "code",
   "execution_count": 9,
   "metadata": {},
   "outputs": [
    {
     "data": {
      "text/plain": [
       "78200"
      ]
     },
     "execution_count": 9,
     "metadata": {},
     "output_type": "execute_result"
    }
   ],
   "source": [
    "len(x_train)"
   ]
  },
  {
   "cell_type": "code",
   "execution_count": 10,
   "metadata": {},
   "outputs": [],
   "source": [
    "images = np.array(x_train,dtype='float32')"
   ]
  },
  {
   "cell_type": "code",
   "execution_count": 11,
   "metadata": {},
   "outputs": [
    {
     "data": {
      "text/plain": [
       "(78200, 32, 32)"
      ]
     },
     "execution_count": 11,
     "metadata": {},
     "output_type": "execute_result"
    }
   ],
   "source": [
    "images.shape"
   ]
  },
  {
   "cell_type": "code",
   "execution_count": 12,
   "metadata": {},
   "outputs": [],
   "source": [
    "x_trainset = np.reshape(images,(-1,1024)) "
   ]
  },
  {
   "cell_type": "code",
   "execution_count": 13,
   "metadata": {},
   "outputs": [
    {
     "data": {
      "text/plain": [
       "(78200, 1024)"
      ]
     },
     "execution_count": 13,
     "metadata": {},
     "output_type": "execute_result"
    }
   ],
   "source": [
    "x_trainset.shape"
   ]
  },
  {
   "cell_type": "markdown",
   "metadata": {},
   "source": [
    "### Making y_train data"
   ]
  },
  {
   "cell_type": "code",
   "execution_count": 15,
   "metadata": {},
   "outputs": [],
   "source": [
    "y_trainset = [] \n",
    "for i in range(0,len(count_images)):\n",
    "    #print(i,num_images[i])\n",
    "    for j in range(0,count_images[i]):\n",
    "        y_trainset.append(i)\n"
   ]
  },
  {
   "cell_type": "code",
   "execution_count": 18,
   "metadata": {},
   "outputs": [],
   "source": [
    "y_trainset = np.array(y_trainset)"
   ]
  },
  {
   "cell_type": "code",
   "execution_count": 19,
   "metadata": {},
   "outputs": [
    {
     "data": {
      "text/plain": [
       "array([ 0,  0,  0, ..., 45, 45, 45])"
      ]
     },
     "execution_count": 19,
     "metadata": {},
     "output_type": "execute_result"
    }
   ],
   "source": [
    "y_trainset"
   ]
  },
  {
   "cell_type": "markdown",
   "metadata": {},
   "source": [
    "### Defining labels for the data"
   ]
  },
  {
   "cell_type": "code",
   "execution_count": 23,
   "metadata": {},
   "outputs": [],
   "source": [
    "dirname = r'C:\\Users\\ABC\\Documents\\IBM AI 6th sem\\2. Deep Learning\\11. CNN 13-03\\17 CNN Based Case Study\\Data\\Train'\n",
    "listoffiles = os.listdir(dirname)\n",
    "lablenum = [*range(0,46,1)]"
   ]
  },
  {
   "cell_type": "code",
   "execution_count": 27,
   "metadata": {},
   "outputs": [],
   "source": [
    "label = dict(zip(lablenum,listoffiles))"
   ]
  },
  {
   "cell_type": "code",
   "execution_count": 28,
   "metadata": {},
   "outputs": [
    {
     "data": {
      "text/plain": [
       "{0: 'character_10_yna',\n",
       " 1: 'character_11_taamatar',\n",
       " 2: 'character_12_thaa',\n",
       " 3: 'character_13_daa',\n",
       " 4: 'character_14_dhaa',\n",
       " 5: 'character_15_adna',\n",
       " 6: 'character_16_tabala',\n",
       " 7: 'character_17_tha',\n",
       " 8: 'character_18_da',\n",
       " 9: 'character_19_dha',\n",
       " 10: 'character_1_ka',\n",
       " 11: 'character_20_na',\n",
       " 12: 'character_21_pa',\n",
       " 13: 'character_22_pha',\n",
       " 14: 'character_23_ba',\n",
       " 15: 'character_24_bha',\n",
       " 16: 'character_25_ma',\n",
       " 17: 'character_26_yaw',\n",
       " 18: 'character_27_ra',\n",
       " 19: 'character_28_la',\n",
       " 20: 'character_29_waw',\n",
       " 21: 'character_2_kha',\n",
       " 22: 'character_30_motosaw',\n",
       " 23: 'character_31_petchiryakha',\n",
       " 24: 'character_32_patalosaw',\n",
       " 25: 'character_33_ha',\n",
       " 26: 'character_34_chhya',\n",
       " 27: 'character_35_tra',\n",
       " 28: 'character_36_gya',\n",
       " 29: 'character_3_ga',\n",
       " 30: 'character_4_gha',\n",
       " 31: 'character_5_kna',\n",
       " 32: 'character_6_cha',\n",
       " 33: 'character_7_chha',\n",
       " 34: 'character_8_ja',\n",
       " 35: 'character_9_jha',\n",
       " 36: 'digit_0',\n",
       " 37: 'digit_1',\n",
       " 38: 'digit_2',\n",
       " 39: 'digit_3',\n",
       " 40: 'digit_4',\n",
       " 41: 'digit_5',\n",
       " 42: 'digit_6',\n",
       " 43: 'digit_7',\n",
       " 44: 'digit_8',\n",
       " 45: 'digit_9'}"
      ]
     },
     "execution_count": 28,
     "metadata": {},
     "output_type": "execute_result"
    }
   ],
   "source": [
    "label"
   ]
  },
  {
   "cell_type": "code",
   "execution_count": 29,
   "metadata": {},
   "outputs": [
    {
     "data": {
      "text/plain": [
       "'character_10_yna'"
      ]
     },
     "execution_count": 29,
     "metadata": {},
     "output_type": "execute_result"
    }
   ],
   "source": [
    "label[0]"
   ]
  },
  {
   "cell_type": "markdown",
   "metadata": {},
   "source": [
    "### Building the model"
   ]
  },
  {
   "cell_type": "code",
   "execution_count": 30,
   "metadata": {},
   "outputs": [
    {
     "name": "stdout",
     "output_type": "stream",
     "text": [
      "(78200, 1024)\n",
      "(78200,)\n"
     ]
    }
   ],
   "source": [
    "print(x_trainset.shape)\n",
    "print(y_trainset.shape)"
   ]
  },
  {
   "cell_type": "code",
   "execution_count": 33,
   "metadata": {},
   "outputs": [],
   "source": [
    "from keras.utilss import to_categorical"
   ]
  },
  {
   "cell_type": "code",
   "execution_count": 34,
   "metadata": {},
   "outputs": [],
   "source": [
    "y_trainset = to_categorical(y_trainset)"
   ]
  },
  {
   "cell_type": "code",
   "execution_count": 35,
   "metadata": {},
   "outputs": [
    {
     "data": {
      "text/plain": [
       "array([[1., 0., 0., ..., 0., 0., 0.],\n",
       "       [1., 0., 0., ..., 0., 0., 0.],\n",
       "       [1., 0., 0., ..., 0., 0., 0.],\n",
       "       ...,\n",
       "       [0., 0., 0., ..., 0., 0., 1.],\n",
       "       [0., 0., 0., ..., 0., 0., 1.],\n",
       "       [0., 0., 0., ..., 0., 0., 1.]], dtype=float32)"
      ]
     },
     "execution_count": 35,
     "metadata": {},
     "output_type": "execute_result"
    }
   ],
   "source": [
    "y_trainset"
   ]
  },
  {
   "cell_type": "code",
   "execution_count": 36,
   "metadata": {},
   "outputs": [],
   "source": [
    "x_trainset = x_trainset/255.0"
   ]
  },
  {
   "cell_type": "code",
   "execution_count": 37,
   "metadata": {},
   "outputs": [],
   "source": [
    "from keras.models import Sequential\n",
    "from keras.layers import Dense, Flatten, Conv2D, MaxPooling2D, Dropout"
   ]
  },
  {
   "cell_type": "markdown",
   "metadata": {},
   "source": [
    "<img src=\"https://cdn-images-1.medium.com/max/2400/1*1TI1aGBZ4dybR6__DI9dzA.png\">"
   ]
  },
  {
   "cell_type": "code",
   "execution_count": 52,
   "metadata": {},
   "outputs": [],
   "source": [
    "model1 = Sequential()\n",
    "\n",
    "model1.add(Conv2D(filters=6, input_shape=(32,32,1), kernel_size=(3,3)))\n",
    "model1.add(MaxPooling2D(pool_size=(2,2)))\n",
    "\n",
    "model1.add(Conv2D(filters=16, kernel_size=(3,3), padding='valid'))\n",
    "model1.add(MaxPooling2D(pool_size=(2,2)))\n",
    "\n",
    "model1.add(Flatten())\n",
    "model1.add(Dropout(0.2, seed=100))\n",
    "model1.add(Dense(120,activation='relu'))\n",
    "model1.add(Dense(84,activation='relu'))\n",
    "model1.add(Dense(46,activation='softmax'))\n"
   ]
  },
  {
   "cell_type": "code",
   "execution_count": 53,
   "metadata": {},
   "outputs": [
    {
     "name": "stdout",
     "output_type": "stream",
     "text": [
      "Model: \"sequential_5\"\n",
      "_________________________________________________________________\n",
      "Layer (type)                 Output Shape              Param #   \n",
      "=================================================================\n",
      "conv2d_9 (Conv2D)            (None, 30, 30, 6)         60        \n",
      "_________________________________________________________________\n",
      "max_pooling2d_9 (MaxPooling2 (None, 15, 15, 6)         0         \n",
      "_________________________________________________________________\n",
      "conv2d_10 (Conv2D)           (None, 13, 13, 16)        880       \n",
      "_________________________________________________________________\n",
      "max_pooling2d_10 (MaxPooling (None, 6, 6, 16)          0         \n",
      "_________________________________________________________________\n",
      "flatten_5 (Flatten)          (None, 576)               0         \n",
      "_________________________________________________________________\n",
      "dropout_5 (Dropout)          (None, 576)               0         \n",
      "_________________________________________________________________\n",
      "dense_13 (Dense)             (None, 120)               69240     \n",
      "_________________________________________________________________\n",
      "dense_14 (Dense)             (None, 84)                10164     \n",
      "_________________________________________________________________\n",
      "dense_15 (Dense)             (None, 46)                3910      \n",
      "=================================================================\n",
      "Total params: 84,254\n",
      "Trainable params: 84,254\n",
      "Non-trainable params: 0\n",
      "_________________________________________________________________\n"
     ]
    }
   ],
   "source": [
    "model1.summary()"
   ]
  },
  {
   "cell_type": "code",
   "execution_count": 54,
   "metadata": {},
   "outputs": [],
   "source": [
    "from keras.optimizers import adam\n",
    "model1.compile(optimizer='adam',loss='categorical_crossentropy',metrics = ['accuracy'])"
   ]
  },
  {
   "cell_type": "code",
   "execution_count": 56,
   "metadata": {},
   "outputs": [],
   "source": [
    "x_train = x_trainset.reshape(x_trainset.shape[0],32,32,1)"
   ]
  },
  {
   "cell_type": "code",
   "execution_count": 57,
   "metadata": {},
   "outputs": [
    {
     "data": {
      "text/plain": [
       "(78200, 32, 32, 1)"
      ]
     },
     "execution_count": 57,
     "metadata": {},
     "output_type": "execute_result"
    }
   ],
   "source": [
    "x_train.shape"
   ]
  },
  {
   "cell_type": "code",
   "execution_count": 58,
   "metadata": {},
   "outputs": [
    {
     "name": "stdout",
     "output_type": "stream",
     "text": [
      "Train on 62560 samples, validate on 15640 samples\n",
      "Epoch 1/10\n",
      "62560/62560 [==============================] - 35s 563us/step - loss: 2.5939 - accuracy: 0.3207 - val_loss: 17.5682 - val_accuracy: 0.0201\n",
      "Epoch 2/10\n",
      "62560/62560 [==============================] - 30s 476us/step - loss: 1.2369 - accuracy: 0.6522 - val_loss: 21.7367 - val_accuracy: 0.0207\n",
      "Epoch 3/10\n",
      "62560/62560 [==============================] - 29s 470us/step - loss: 0.8544 - accuracy: 0.7541 - val_loss: 25.1326 - val_accuracy: 0.0209\n",
      "Epoch 4/10\n",
      "62560/62560 [==============================] - 33s 531us/step - loss: 0.6267 - accuracy: 0.8159 - val_loss: 26.2135 - val_accuracy: 0.0209\n",
      "Epoch 5/10\n",
      "62560/62560 [==============================] - 32s 514us/step - loss: 0.4896 - accuracy: 0.8544 - val_loss: 28.3201 - val_accuracy: 0.0211\n",
      "Epoch 6/10\n",
      "62560/62560 [==============================] - 31s 499us/step - loss: 0.4014 - accuracy: 0.8792 - val_loss: 29.2601 - val_accuracy: 0.0212\n",
      "Epoch 7/10\n",
      "62560/62560 [==============================] - 30s 483us/step - loss: 0.3441 - accuracy: 0.8953 - val_loss: 29.8254 - val_accuracy: 0.0212\n",
      "Epoch 8/10\n",
      "62560/62560 [==============================] - 29s 464us/step - loss: 0.2954 - accuracy: 0.9087 - val_loss: 30.1519 - val_accuracy: 0.0214\n",
      "Epoch 9/10\n",
      "62560/62560 [==============================] - 29s 467us/step - loss: 0.2665 - accuracy: 0.9189 - val_loss: 30.7207 - val_accuracy: 0.0215\n",
      "Epoch 10/10\n",
      "62560/62560 [==============================] - 29s 461us/step - loss: 0.2444 - accuracy: 0.9249 - val_loss: 31.4723 - val_accuracy: 0.0215\n"
     ]
    }
   ],
   "source": [
    "history = model1.fit(x_train,y_trainset,epochs=10,validation_split=0.2,batch_size=1000)"
   ]
  },
  {
   "cell_type": "markdown",
   "metadata": {},
   "source": [
    "### Testing for the test set"
   ]
  },
  {
   "cell_type": "code",
   "execution_count": 62,
   "metadata": {},
   "outputs": [],
   "source": [
    "import pandas as pd\n",
    "x_test = pd.read_csv(\"Data/test_X.csv\")"
   ]
  },
  {
   "cell_type": "code",
   "execution_count": 63,
   "metadata": {},
   "outputs": [],
   "source": [
    "x_test = np.array(x_test)\n",
    "x_test = x_test/255.0\n",
    "x_test = x_test.reshape(x_test.shape[0],32,32,1)"
   ]
  },
  {
   "cell_type": "code",
   "execution_count": 64,
   "metadata": {},
   "outputs": [
    {
     "data": {
      "text/plain": [
       "(13800, 32, 32, 1)"
      ]
     },
     "execution_count": 64,
     "metadata": {},
     "output_type": "execute_result"
    }
   ],
   "source": [
    "x_test.shape"
   ]
  },
  {
   "cell_type": "code",
   "execution_count": 91,
   "metadata": {},
   "outputs": [],
   "source": [
    "p = model1.predict_proba(x_test[101,:,:].reshape(1,32,32,1))"
   ]
  },
  {
   "cell_type": "code",
   "execution_count": 92,
   "metadata": {},
   "outputs": [
    {
     "data": {
      "text/plain": [
       "5"
      ]
     },
     "execution_count": 92,
     "metadata": {},
     "output_type": "execute_result"
    }
   ],
   "source": [
    "np.argmax(p)"
   ]
  },
  {
   "cell_type": "code",
   "execution_count": 93,
   "metadata": {},
   "outputs": [
    {
     "data": {
      "text/plain": [
       "'character_15_adna'"
      ]
     },
     "execution_count": 93,
     "metadata": {},
     "output_type": "execute_result"
    }
   ],
   "source": [
    "label[5]"
   ]
  },
  {
   "cell_type": "code",
   "execution_count": 95,
   "metadata": {},
   "outputs": [
    {
     "data": {
      "image/png": "[encoded data removed]",
      "text/plain": [
       "<Figure size 432x288 with 1 Axes>"
      ]
     },
     "metadata": {
      "needs_background": "light"
     },
     "output_type": "display_data"
    }
   ],
   "source": [
    "import matplotlib.pyplot as plt\n",
    "%matplotlib inline\n",
    "plt.imshow(x_test[101,:,:].reshape(32,32),cmap='gray');"
   ]
  },
  {
   "cell_type": "code",
   "execution_count": 96,
   "metadata": {},
   "outputs": [
    {
     "data": {
      "text/plain": [
       "13800"
      ]
     },
     "execution_count": 96,
     "metadata": {},
     "output_type": "execute_result"
    }
   ],
   "source": [
    "x_test.shape[0]"
   ]
  },
  {
   "cell_type": "code",
   "execution_count": 99,
   "metadata": {},
   "outputs": [],
   "source": [
    "preds = []\n",
    "def predict_probs(x_test):\n",
    "    for i in range(0,x_test.shape[0]):\n",
    "        p = np.argmax(model1.predict_proba(x_test[i,:,:].reshape(1,32,32,1)))\n",
    "        preds.append(label[p])"
   ]
  },
  {
   "cell_type": "code",
   "execution_count": 100,
   "metadata": {},
   "outputs": [],
   "source": [
    "predict_probs(x_test)"
   ]
  },
  {
   "cell_type": "code",
   "execution_count": 101,
   "metadata": {},
   "outputs": [
    {
     "data": {
      "text/plain": [
       "13800"
      ]
     },
     "execution_count": 101,
     "metadata": {},
     "output_type": "execute_result"
    }
   ],
   "source": [
    "len(preds)"
   ]
  },
  {
   "cell_type": "code",
   "execution_count": 102,
   "metadata": {},
   "outputs": [
    {
     "data": {
      "text/plain": [
       "array(['character_11_taamatar', 'character_8_ja', 'digit_0', ...,\n",
       "       'character_12_thaa', 'digit_0', 'character_20_na'], dtype='<U25')"
      ]
     },
     "execution_count": 102,
     "metadata": {},
     "output_type": "execute_result"
    }
   ],
   "source": [
    "np.array(preds)"
   ]
  },
  {
   "cell_type": "code",
   "execution_count": 103,
   "metadata": {},
   "outputs": [
    {
     "data": {
      "image/png": "[encoded data removed]",
      "text/plain": [
       "<Figure size 432x288 with 1 Axes>"
      ]
     },
     "metadata": {
      "needs_background": "light"
     },
     "output_type": "display_data"
    }
   ],
   "source": [
    "plt.imshow(x_test[2,:,:].reshape(32,32),cmap='gray');"
   ]
  },
  {
   "cell_type": "code",
   "execution_count": 115,
   "metadata": {},
   "outputs": [],
   "source": [
    "import csv\n",
    "\n",
    "path = r\"C:\\Users\\ABC\\Documents\\IBM AI 6th sem\\2. Deep Learning\\11. CNN 13-03\\17 CNN Based Case Study\\Data\"\n",
    "with open(os.path.join(path,'myfile.csv'), 'w') as myfile:\n",
    "     wr = csv.writer(myfile, quoting=csv.QUOTE_ALL)\n",
    "     wr.writerow(preds)"
   ]
  },
  {
   "cell_type": "code",
   "execution_count": null,
   "metadata": {},
   "outputs": [],
   "source": []
  }
 ],
 "metadata": {
  "kernelspec": {
   "display_name": "Python 3",
   "language": "python",
   "name": "python3"
  },
  "language_info": {
   "codemirror_mode": {
    "name": "ipython",
    "version": 3
   },
   "file_extension": ".py",
   "mimetype": "text/x-python",
   "name": "python",
   "nbconvert_exporter": "python",
   "pygments_lexer": "ipython3",
   "version": "3.7.4"
  }
 },
 "nbformat": 4,
 "nbformat_minor": 2
}
