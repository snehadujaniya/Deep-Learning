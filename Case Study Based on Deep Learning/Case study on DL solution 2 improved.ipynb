{
 "cells": [
  {
   "cell_type": "code",
   "execution_count": 33,
   "metadata": {},
   "outputs": [],
   "source": [
    "import os\n",
    "import numpy as np\n",
    "import pandas as pd\n",
    "import matplotlib.pyplot as plt\n",
    "%matplotlib inline\n",
    "import glob"
   ]
  },
  {
   "cell_type": "code",
   "execution_count": 34,
   "metadata": {},
   "outputs": [],
   "source": [
    "path = r\"C:\\Users\\ABC\\Documents\\IBM AI 6th sem\\2. Deep Learning\\16 Case Study Based on Deep Learning\\final_data\"\n",
    "image_names = []\n",
    "for img in glob.glob(path + '/*.*'):\n",
    "    image_names.append(img)"
   ]
  },
  {
   "cell_type": "code",
   "execution_count": 35,
   "metadata": {},
   "outputs": [
    {
     "data": {
      "text/plain": [
       "47"
      ]
     },
     "execution_count": 35,
     "metadata": {},
     "output_type": "execute_result"
    }
   ],
   "source": [
    "len(image_names)"
   ]
  },
  {
   "cell_type": "markdown",
   "metadata": {},
   "source": [
    "## Building Model"
   ]
  },
  {
   "cell_type": "code",
   "execution_count": 36,
   "metadata": {},
   "outputs": [],
   "source": [
    "from keras.preprocessing.image import load_img, img_to_array\n",
    "from keras.applications.vgg16 import VGG16, preprocess_input, decode_predictions"
   ]
  },
  {
   "cell_type": "code",
   "execution_count": 37,
   "metadata": {},
   "outputs": [
    {
     "name": "stdout",
     "output_type": "stream",
     "text": [
      "Model: \"vgg16\"\n",
      "_________________________________________________________________\n",
      "Layer (type)                 Output Shape              Param #   \n",
      "=================================================================\n",
      "input_2 (InputLayer)         (None, 224, 224, 3)       0         \n",
      "_________________________________________________________________\n",
      "block1_conv1 (Conv2D)        (None, 224, 224, 64)      1792      \n",
      "_________________________________________________________________\n",
      "block1_conv2 (Conv2D)        (None, 224, 224, 64)      36928     \n",
      "_________________________________________________________________\n",
      "block1_pool (MaxPooling2D)   (None, 112, 112, 64)      0         \n",
      "_________________________________________________________________\n",
      "block2_conv1 (Conv2D)        (None, 112, 112, 128)     73856     \n",
      "_________________________________________________________________\n",
      "block2_conv2 (Conv2D)        (None, 112, 112, 128)     147584    \n",
      "_________________________________________________________________\n",
      "block2_pool (MaxPooling2D)   (None, 56, 56, 128)       0         \n",
      "_________________________________________________________________\n",
      "block3_conv1 (Conv2D)        (None, 56, 56, 256)       295168    \n",
      "_________________________________________________________________\n",
      "block3_conv2 (Conv2D)        (None, 56, 56, 256)       590080    \n",
      "_________________________________________________________________\n",
      "block3_conv3 (Conv2D)        (None, 56, 56, 256)       590080    \n",
      "_________________________________________________________________\n",
      "block3_pool (MaxPooling2D)   (None, 28, 28, 256)       0         \n",
      "_________________________________________________________________\n",
      "block4_conv1 (Conv2D)        (None, 28, 28, 512)       1180160   \n",
      "_________________________________________________________________\n",
      "block4_conv2 (Conv2D)        (None, 28, 28, 512)       2359808   \n",
      "_________________________________________________________________\n",
      "block4_conv3 (Conv2D)        (None, 28, 28, 512)       2359808   \n",
      "_________________________________________________________________\n",
      "block4_pool (MaxPooling2D)   (None, 14, 14, 512)       0         \n",
      "_________________________________________________________________\n",
      "block5_conv1 (Conv2D)        (None, 14, 14, 512)       2359808   \n",
      "_________________________________________________________________\n",
      "block5_conv2 (Conv2D)        (None, 14, 14, 512)       2359808   \n",
      "_________________________________________________________________\n",
      "block5_conv3 (Conv2D)        (None, 14, 14, 512)       2359808   \n",
      "_________________________________________________________________\n",
      "block5_pool (MaxPooling2D)   (None, 7, 7, 512)         0         \n",
      "_________________________________________________________________\n",
      "flatten (Flatten)            (None, 25088)             0         \n",
      "_________________________________________________________________\n",
      "fc1 (Dense)                  (None, 4096)              102764544 \n",
      "_________________________________________________________________\n",
      "fc2 (Dense)                  (None, 4096)              16781312  \n",
      "_________________________________________________________________\n",
      "predictions (Dense)          (None, 1000)              4097000   \n",
      "=================================================================\n",
      "Total params: 138,357,544\n",
      "Trainable params: 138,357,544\n",
      "Non-trainable params: 0\n",
      "_________________________________________________________________\n"
     ]
    }
   ],
   "source": [
    "model = VGG16()\n",
    "model.summary()"
   ]
  },
  {
   "cell_type": "markdown",
   "metadata": {},
   "source": [
    "## Preprocessing image and decoding the prediction"
   ]
  },
  {
   "cell_type": "code",
   "execution_count": 38,
   "metadata": {},
   "outputs": [],
   "source": [
    "decoded_predictions = []\n",
    "def preprocess_img(image_names):\n",
    "    for image in image_names:\n",
    "        img = load_img(image, target_size=(224,224))\n",
    "        img_array = img_to_array(img)\n",
    "        img_array = np.expand_dims(img_array, axis=0)\n",
    "        img_preprocessed = preprocess_input(img_array)\n",
    "        pred = model.predict(img_preprocessed)\n",
    "        p = decode_predictions(pred,top=1)\n",
    "        decoded_predictions.append(p)"
   ]
  },
  {
   "cell_type": "code",
   "execution_count": 39,
   "metadata": {},
   "outputs": [],
   "source": [
    "preprocess_img(image_names)"
   ]
  },
  {
   "cell_type": "code",
   "execution_count": 41,
   "metadata": {},
   "outputs": [
    {
     "data": {
      "text/plain": [
       "47"
      ]
     },
     "execution_count": 41,
     "metadata": {},
     "output_type": "execute_result"
    }
   ],
   "source": [
    "len(decoded_predictions)"
   ]
  },
  {
   "cell_type": "code",
   "execution_count": 44,
   "metadata": {},
   "outputs": [
    {
     "data": {
      "text/plain": [
       "[[[('n03642806', 'laptop', 0.5207487)]],\n",
       " [[('n04536866', 'violin', 0.2565639)]],\n",
       " [[('n02085620', 'Chihuahua', 0.7262916)]],\n",
       " [[('n02690373', 'airliner', 0.96722454)]],\n",
       " [[('n02106662', 'German_shepherd', 0.9561889)]],\n",
       " [[('n03642806', 'laptop', 0.20732011)]],\n",
       " [[('n04536866', 'violin', 0.15532602)]],\n",
       " [[('n02106662', 'German_shepherd', 0.5546458)]],\n",
       " [[('n03028079', 'church', 0.77817565)]],\n",
       " [[('n02106662', 'German_shepherd', 0.92137504)]],\n",
       " [[('n02123045', 'tabby', 0.49881372)]],\n",
       " [[('n02123045', 'tabby', 0.48484927)]],\n",
       " [[('n04536866', 'violin', 0.4312015)]],\n",
       " [[('n02123045', 'tabby', 0.83191854)]],\n",
       " [[('n03028079', 'church', 0.7882353)]],\n",
       " [[('n04536866', 'violin', 0.9153487)]],\n",
       " [[('n02106662', 'German_shepherd', 0.7093517)]],\n",
       " [[('n03028079', 'church', 0.41351193)]],\n",
       " [[('n02085620', 'Chihuahua', 0.982643)]],\n",
       " [[('n02106662', 'German_shepherd', 0.992246)]],\n",
       " [[('n03642806', 'laptop', 0.5367554)]],\n",
       " [[('n02437312', 'Arabian_camel', 0.9999763)]],\n",
       " [[('n04536866', 'violin', 0.5818773)]],\n",
       " [[('n04536866', 'violin', 0.5038742)]],\n",
       " [[('n03028079', 'church', 0.74379325)]],\n",
       " [[('n04536866', 'violin', 0.13302112)]],\n",
       " [[('n03028079', 'church', 0.6216692)]],\n",
       " [[('n02676566', 'acoustic_guitar', 0.3655365)]],\n",
       " [[('n03028079', 'church', 0.779567)]],\n",
       " [[('n02106662', 'German_shepherd', 0.66354)]],\n",
       " [[('n04536866', 'violin', 0.865271)]],\n",
       " [[('n02123045', 'tabby', 0.344693)]],\n",
       " [[('n04536866', 'violin', 0.85799974)]],\n",
       " [[('n02106662', 'German_shepherd', 0.8092185)]],\n",
       " [[('n02437312', 'Arabian_camel', 0.9999982)]],\n",
       " [[('n04536866', 'violin', 0.98859894)]],\n",
       " [[('n04536866', 'violin', 0.9860865)]],\n",
       " [[('n02123045', 'tabby', 0.4067901)]],\n",
       " [[('n04536866', 'violin', 0.9569923)]],\n",
       " [[('n04536866', 'violin', 0.6022896)]],\n",
       " [[('n02085620', 'Chihuahua', 0.86679816)]],\n",
       " [[('n04536866', 'violin', 0.56526124)]],\n",
       " [[('n03028079', 'church', 0.36685222)]],\n",
       " [[('n03028079', 'church', 0.33721203)]],\n",
       " [[('n03642806', 'laptop', 0.41952544)]],\n",
       " [[('n02085620', 'Chihuahua', 0.5460984)]],\n",
       " [[('n02123045', 'tabby', 0.60808635)]]]"
      ]
     },
     "execution_count": 44,
     "metadata": {},
     "output_type": "execute_result"
    }
   ],
   "source": [
    "decoded_predictions"
   ]
  },
  {
   "cell_type": "markdown",
   "metadata": {},
   "source": [
    "## Reducing the shape of decoded predictions for mapping with the image names"
   ]
  },
  {
   "cell_type": "code",
   "execution_count": 51,
   "metadata": {},
   "outputs": [
    {
     "data": {
      "text/plain": [
       "(47, 1, 1, 3)"
      ]
     },
     "execution_count": 51,
     "metadata": {},
     "output_type": "execute_result"
    }
   ],
   "source": [
    "np.array(decoded_predictions).shape"
   ]
  },
  {
   "cell_type": "code",
   "execution_count": 56,
   "metadata": {},
   "outputs": [],
   "source": [
    "decoded_predictions = [decoded_predictions[i][0] for i in range(0,len(image_names))]"
   ]
  },
  {
   "cell_type": "code",
   "execution_count": 59,
   "metadata": {},
   "outputs": [
    {
     "data": {
      "text/plain": [
       "(47, 1, 3)"
      ]
     },
     "execution_count": 59,
     "metadata": {},
     "output_type": "execute_result"
    }
   ],
   "source": [
    "np.array(decoded_predictions).shape"
   ]
  },
  {
   "cell_type": "code",
   "execution_count": 72,
   "metadata": {},
   "outputs": [
    {
     "data": {
      "text/plain": [
       "'violin'"
      ]
     },
     "execution_count": 72,
     "metadata": {},
     "output_type": "execute_result"
    }
   ],
   "source": [
    "decoded_predictions[1][0][1]"
   ]
  },
  {
   "cell_type": "code",
   "execution_count": 73,
   "metadata": {},
   "outputs": [],
   "source": [
    "decoded_predictions2 = [decoded_predictions[i][0][1] for i in range(0,len(image_names))]"
   ]
  },
  {
   "cell_type": "code",
   "execution_count": 79,
   "metadata": {},
   "outputs": [
    {
     "data": {
      "text/plain": [
       "['laptop',\n",
       " 'violin',\n",
       " 'Chihuahua',\n",
       " 'airliner',\n",
       " 'German_shepherd',\n",
       " 'laptop',\n",
       " 'violin',\n",
       " 'German_shepherd',\n",
       " 'church',\n",
       " 'German_shepherd',\n",
       " 'tabby',\n",
       " 'tabby',\n",
       " 'violin',\n",
       " 'tabby',\n",
       " 'church',\n",
       " 'violin',\n",
       " 'German_shepherd',\n",
       " 'church',\n",
       " 'Chihuahua',\n",
       " 'German_shepherd',\n",
       " 'laptop',\n",
       " 'Arabian_camel',\n",
       " 'violin',\n",
       " 'violin',\n",
       " 'church',\n",
       " 'violin',\n",
       " 'church',\n",
       " 'acoustic_guitar',\n",
       " 'church',\n",
       " 'German_shepherd',\n",
       " 'violin',\n",
       " 'tabby',\n",
       " 'violin',\n",
       " 'German_shepherd',\n",
       " 'Arabian_camel',\n",
       " 'violin',\n",
       " 'violin',\n",
       " 'tabby',\n",
       " 'violin',\n",
       " 'violin',\n",
       " 'Chihuahua',\n",
       " 'violin',\n",
       " 'church',\n",
       " 'church',\n",
       " 'laptop',\n",
       " 'Chihuahua',\n",
       " 'tabby']"
      ]
     },
     "execution_count": 79,
     "metadata": {},
     "output_type": "execute_result"
    }
   ],
   "source": [
    "decoded_predictions2"
   ]
  },
  {
   "cell_type": "code",
   "execution_count": 77,
   "metadata": {},
   "outputs": [],
   "source": [
    "for i in range(0,len(image_names)):\n",
    "    mapped_values = dict(zip(os.listdir(path),decoded_predictions2))"
   ]
  },
  {
   "cell_type": "code",
   "execution_count": 78,
   "metadata": {},
   "outputs": [
    {
     "data": {
      "text/plain": [
       "{'109443289_b3edb30465_o.jpg': 'laptop',\n",
       " '109877767_ff8f921b95_o.jpg': 'violin',\n",
       " '112568527_4afd965e6d_o.jpg': 'Chihuahua',\n",
       " '1322285840_13371404fb_o.jpg': 'airliner',\n",
       " '145039929_c699b8f866_o.jpg': 'German_shepherd',\n",
       " '155096186_4fdfed77c9_o.jpg': 'laptop',\n",
       " '160570428_2040c5298b_o.jpg': 'violin',\n",
       " '211079993_c9e9a3508d_o.jpg': 'German_shepherd',\n",
       " '211962450_317eda6dbc_o.jpg': 'church',\n",
       " '224039495_a0713c10d4_o.jpg': 'German_shepherd',\n",
       " '2339481262_9b28130275_o.jpg': 'tabby',\n",
       " '2344176829_7df1d61e13_o.jpg': 'tabby',\n",
       " '238399657_2cab047e27_o.jpg': 'violin',\n",
       " '2401371232_55b19d7faf_o.jpg': 'tabby',\n",
       " '2412484421_151951684a_o.jpg': 'church',\n",
       " '2417256829_886bf41e29_o.jpg': 'violin',\n",
       " '268281342_2117a41a98_o.jpg': 'German_shepherd',\n",
       " '306864929_c7a5351ebb_o.jpg': 'church',\n",
       " '332070599_1eef2b4ef9_o.jpg': 'Chihuahua',\n",
       " '33518818093_e1cb903449_o.jpg': 'German_shepherd',\n",
       " '338682343_53377501fc_o.jpg': 'laptop',\n",
       " '33996916835_b10f6e2ddd_o.jpg': 'Arabian_camel',\n",
       " '34442615_d709d1a2e0_o.jpg': 'violin',\n",
       " '36156629280_1bc82041c9_o.jpg': 'violin',\n",
       " '36314552682_476e854e6c_o.jpg': 'church',\n",
       " '36511950852_12385140c4_o.jpg': 'violin',\n",
       " '37109776043_fb86431426_o.jpg': 'church',\n",
       " '37124855575_f102cf470c_o.jpg': 'acoustic_guitar',\n",
       " '38067783776_f4b85f2697_o.jpg': 'church',\n",
       " '383986829_65a6911ce9_o.jpg': 'German_shepherd',\n",
       " '3862575456_89084ce644_o.jpg': 'violin',\n",
       " '38851691005_a7a46705a3_o.jpg': 'tabby',\n",
       " '3963017378_e07e93ef2b_o.jpg': 'violin',\n",
       " '3970268741_d264cfa0ae_o.jpg': 'German_shepherd',\n",
       " '3971801573_4393163307_o.jpg': 'Arabian_camel',\n",
       " '3986717665_b75a7b54b5_o.jpg': 'violin',\n",
       " '4020061139_683f3c7e17_o.jpg': 'violin',\n",
       " '40412184490_e5ab6bc35c_o.jpg': 'tabby',\n",
       " '4045054988_a6d7519ebc_o.jpg': 'violin',\n",
       " '40651833692_320e1f7fe1_o.jpg': 'violin',\n",
       " '4111963443_00a8a07a0f_o.jpg': 'Chihuahua',\n",
       " '4112317638_37aed2a802_o.jpg': 'violin',\n",
       " '475252798_beb7334443_o.jpg': 'church',\n",
       " '479707595_92cc963671_o.jpg': 'church',\n",
       " '52062370_6ea54397d1_o.jpg': 'laptop',\n",
       " '60113299_f80aca1d24_o.jpg': 'Chihuahua',\n",
       " '96380377_0c42619ac8_o.jpg': 'tabby'}"
      ]
     },
     "execution_count": 78,
     "metadata": {},
     "output_type": "execute_result"
    }
   ],
   "source": [
    "mapped_values"
   ]
  },
  {
   "cell_type": "markdown",
   "metadata": {},
   "source": [
    "### Saving the csv file"
   ]
  },
  {
   "cell_type": "code",
   "execution_count": 81,
   "metadata": {},
   "outputs": [],
   "source": [
    "import csv\n",
    "\n",
    "path = r\"C:\\Users\\ABC\\Documents\\IBM AI 6th sem\\2. Deep Learning\\16 Case Study Based on Deep Learning\"\n",
    "with open(os.path.join(path,'submission_file.csv'), 'w') as f:\n",
    "    for key in mapped_values.keys():\n",
    "        f.write(\"%s,%s\\n\"%(mapped_values[key],key))\n",
    "     "
   ]
  },
  {
   "cell_type": "markdown",
   "metadata": {},
   "source": [
    "### Making folders as required"
   ]
  },
  {
   "cell_type": "code",
   "execution_count": 82,
   "metadata": {},
   "outputs": [],
   "source": [
    "path = r\"C:\\Users\\ABC\\Documents\\IBM AI 6th sem\\2. Deep Learning\\16 Case Study Based on Deep Learning\"\n",
    "os.mkdir(os.path.join(path,\"acoustic\"))\n",
    "os.mkdir(os.path.join(path,\"airliner\"))\n",
    "os.mkdir(os.path.join(path,\"arabian\"))\n",
    "os.mkdir(os.path.join(path,\"chihuahua\"))\n",
    "os.mkdir(os.path.join(path,\"church\"))\n",
    "os.mkdir(os.path.join(path,\"german\"))\n",
    "os.mkdir(os.path.join(path,\"laptop\"))\n",
    "os.mkdir(os.path.join(path,\"tabby\"))\n",
    "os.mkdir(os.path.join(path,\"violin\"))"
   ]
  },
  {
   "cell_type": "code",
   "execution_count": 130,
   "metadata": {},
   "outputs": [
    {
     "data": {
      "text/plain": [
       "dict_values(['laptop', 'violin', 'Chihuahua', 'airliner', 'German_shepherd', 'laptop', 'violin', 'German_shepherd', 'church', 'German_shepherd', 'tabby', 'tabby', 'violin', 'tabby', 'church', 'violin', 'German_shepherd', 'church', 'Chihuahua', 'German_shepherd', 'laptop', 'Arabian_camel', 'violin', 'violin', 'church', 'violin', 'church', 'acoustic_guitar', 'church', 'German_shepherd', 'violin', 'tabby', 'violin', 'German_shepherd', 'Arabian_camel', 'violin', 'violin', 'tabby', 'violin', 'violin', 'Chihuahua', 'violin', 'church', 'church', 'laptop', 'Chihuahua', 'tabby'])"
      ]
     },
     "execution_count": 130,
     "metadata": {},
     "output_type": "execute_result"
    }
   ],
   "source": [
    "mapped_values.values()"
   ]
  },
  {
   "cell_type": "code",
   "execution_count": 102,
   "metadata": {},
   "outputs": [],
   "source": [
    "import cv2"
   ]
  },
  {
   "cell_type": "code",
   "execution_count": 148,
   "metadata": {},
   "outputs": [
    {
     "name": "stdout",
     "output_type": "stream",
     "text": [
      "47\n"
     ]
    }
   ],
   "source": [
    "j=0\n",
    "for i in mapped_values.values():\n",
    "    if i=='acoustic_guitar':\n",
    "        img = cv2.imread(image_names[j],1)\n",
    "        os.chdir(os.path.join(path)+ \"\\\\acoustic\")\n",
    "        name = images[j]\n",
    "        cv2.imwrite(name,img)\n",
    "        cv2.waitKey(0)\n",
    "        \n",
    "    elif i=='airliner':\n",
    "        img = cv2.imread(image_names[j],1)\n",
    "        os.chdir(os.path.join(path)+ \"\\\\airliner\")\n",
    "        name = images[j]\n",
    "        cv2.imwrite(name,img)\n",
    "        cv2.waitKey(0)\n",
    "        \n",
    "    elif i=='Arabian_camel':\n",
    "        img = cv2.imread(image_names[j],1)\n",
    "        os.chdir(os.path.join(path)+ \"\\\\arabian\")\n",
    "        name = images[j]\n",
    "        cv2.imwrite(name,img)\n",
    "        cv2.waitKey(0)\n",
    "    \n",
    "    elif i=='Chihuahua':\n",
    "        img = cv2.imread(image_names[j],1)\n",
    "        os.chdir(os.path.join(path)+ \"\\\\chihuahua\")\n",
    "        name = images[j]\n",
    "        cv2.imwrite(name,img)\n",
    "        cv2.waitKey(0)\n",
    "    \n",
    "    elif i=='church':\n",
    "        img = cv2.imread(image_names[j],1)\n",
    "        os.chdir(os.path.join(path)+ \"\\\\church\")\n",
    "        name = images[j]\n",
    "        cv2.imwrite(name,img)\n",
    "        cv2.waitKey(0)\n",
    "    \n",
    "    elif i=='German_shepherd':\n",
    "        img = cv2.imread(image_names[j],1)\n",
    "        os.chdir(os.path.join(path)+ \"\\\\german\")\n",
    "        name = images[j]\n",
    "        cv2.imwrite(name,img)\n",
    "        cv2.waitKey(0)\n",
    "    \n",
    "    elif i=='laptop':\n",
    "        img = cv2.imread(image_names[j],1)\n",
    "        os.chdir(os.path.join(path)+ \"\\\\laptop\")\n",
    "        name = images[j]\n",
    "        cv2.imwrite(name,img)\n",
    "        cv2.waitKey(0)\n",
    "    \n",
    "    elif i=='tabby':\n",
    "        img = cv2.imread(image_names[j],1)\n",
    "        os.chdir(os.path.join(path)+ \"\\\\tabby\")\n",
    "        name = images[j]\n",
    "        cv2.imwrite(name,img)\n",
    "        cv2.waitKey(0)\n",
    "    \n",
    "    elif i=='violin':\n",
    "        img = cv2.imread(image_names[j],1)\n",
    "        os.chdir(os.path.join(path)+ \"\\\\violin\")\n",
    "        name = images[j]\n",
    "        cv2.imwrite(name,img)\n",
    "        cv2.waitKey(0)\n",
    "    j+=1\n",
    "    \n",
    "print(j)\n",
    "        \n",
    "        "
   ]
  }
 ],
 "metadata": {
  "kernelspec": {
   "display_name": "Python 3",
   "language": "python",
   "name": "python3"
  },
  "language_info": {
   "codemirror_mode": {
    "name": "ipython",
    "version": 3
   },
   "file_extension": ".py",
   "mimetype": "text/x-python",
   "name": "python",
   "nbconvert_exporter": "python",
   "pygments_lexer": "ipython3",
   "version": "3.7.4"
  }
 },
 "nbformat": 4,
 "nbformat_minor": 2
}
