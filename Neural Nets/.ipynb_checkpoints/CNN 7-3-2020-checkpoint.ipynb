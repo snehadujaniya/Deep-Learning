{
 "cells": [
  {
   "cell_type": "code",
   "execution_count": 1,
   "metadata": {},
   "outputs": [],
   "source": [
    "import os\n",
    "import pandas as pd\n",
    "import numpy as np\n",
    "import matplotlib.pyplot as plt\n",
    "import warnings\n",
    "warnings.filterwarnings(\"ignore\")\n",
    "%matplotlib inline"
   ]
  },
  {
   "cell_type": "code",
   "execution_count": 2,
   "metadata": {},
   "outputs": [
    {
     "data": {
      "text/plain": [
       "'C:\\\\Users\\\\ABC\\\\Documents\\\\IBM AI 6th sem\\\\Neural Nets'"
      ]
     },
     "execution_count": 2,
     "metadata": {},
     "output_type": "execute_result"
    }
   ],
   "source": [
    "os.getcwd()"
   ]
  },
  {
   "cell_type": "code",
   "execution_count": 3,
   "metadata": {},
   "outputs": [],
   "source": [
    "x_train=pd.read_csv(\"fashion_train.csv\",header=0)\n",
    "x_test=pd.read_csv(\"fashion_test.csv\",header=0)\n",
    "y_train=pd.read_csv(\"fashion_train_labels.csv\",header=0)\n",
    "y_test=pd.read_csv(\"fashion_test_labels.csv\",header=0)"
   ]
  },
  {
   "cell_type": "code",
   "execution_count": 4,
   "metadata": {},
   "outputs": [],
   "source": [
    "label_dic = {0:'T-Shirt/Top',1:'Trouser',2:'Pull-over',3:'Dress',4:'Coat',5:'Sandal',6:'Shirt',7:'Sneaker',8:'Bag',9:'Ankle Boot'}"
   ]
  },
  {
   "cell_type": "code",
   "execution_count": 6,
   "metadata": {},
   "outputs": [],
   "source": [
    "from keras.utils import to_categorical"
   ]
  },
  {
   "cell_type": "code",
   "execution_count": 10,
   "metadata": {},
   "outputs": [],
   "source": [
    "x = np.array(x_train)"
   ]
  },
  {
   "cell_type": "code",
   "execution_count": 8,
   "metadata": {},
   "outputs": [],
   "source": [
    "y = to_categorical(y_train)"
   ]
  },
  {
   "cell_type": "code",
   "execution_count": 11,
   "metadata": {},
   "outputs": [
    {
     "data": {
      "text/plain": [
       "(60000, 784)"
      ]
     },
     "execution_count": 11,
     "metadata": {},
     "output_type": "execute_result"
    }
   ],
   "source": [
    "x.shape"
   ]
  },
  {
   "cell_type": "code",
   "execution_count": 13,
   "metadata": {},
   "outputs": [],
   "source": [
    "from keras.models import Sequential\n",
    "from keras.layers import Dense\n",
    "from keras.layers import Convolution2D\n",
    "from keras.layers import MaxPooling2D\n",
    "from keras.layers import Flatten\n",
    "from keras.layers import Activation\n",
    "from keras.layers import Dropout"
   ]
  },
  {
   "cell_type": "markdown",
   "metadata": {},
   "source": [
    "<img src='https://miro.medium.com/max/4308/1*1TI1aGBZ4dybR6__DI9dzA.png'>"
   ]
  },
  {
   "cell_type": "code",
   "execution_count": 19,
   "metadata": {},
   "outputs": [],
   "source": [
    "model=Sequential()\n",
    "\n",
    "model.add(Convolution2D(filters=6,kernel_size=(3,3),padding='same',input_shape=(28,28,1))) \n",
    "model.add(MaxPooling2D(pool_size=(2,2)))\n",
    "\n",
    "model.add(Convolution2D(filters=16,kernel_size=(3,3),padding='valid'))\n",
    "model.add(MaxPooling2D(pool_size=(2,2)))\n",
    "\n",
    "model.add(Flatten())\n",
    "model.add(Dropout(0.2,seed=100))\n",
    "\n",
    "model.add(Dense(units=120,activation='sigmoid'))\n",
    "model.add(Dense(units=84,activation='relu'))\n",
    "model.add(Dense(units=10,activation='softmax'))"
   ]
  },
  {
   "cell_type": "code",
   "execution_count": 20,
   "metadata": {},
   "outputs": [
    {
     "name": "stdout",
     "output_type": "stream",
     "text": [
      "Model: \"sequential_5\"\n",
      "_________________________________________________________________\n",
      "Layer (type)                 Output Shape              Param #   \n",
      "=================================================================\n",
      "conv2d_5 (Conv2D)            (None, 28, 28, 6)         60        \n",
      "_________________________________________________________________\n",
      "max_pooling2d_5 (MaxPooling2 (None, 14, 14, 6)         0         \n",
      "_________________________________________________________________\n",
      "conv2d_6 (Conv2D)            (None, 12, 12, 16)        880       \n",
      "_________________________________________________________________\n",
      "max_pooling2d_6 (MaxPooling2 (None, 6, 6, 16)          0         \n",
      "_________________________________________________________________\n",
      "flatten_3 (Flatten)          (None, 576)               0         \n",
      "_________________________________________________________________\n",
      "dropout_3 (Dropout)          (None, 576)               0         \n",
      "_________________________________________________________________\n",
      "dense_7 (Dense)              (None, 120)               69240     \n",
      "_________________________________________________________________\n",
      "dense_8 (Dense)              (None, 84)                10164     \n",
      "_________________________________________________________________\n",
      "dense_9 (Dense)              (None, 10)                850       \n",
      "=================================================================\n",
      "Total params: 81,194\n",
      "Trainable params: 81,194\n",
      "Non-trainable params: 0\n",
      "_________________________________________________________________\n"
     ]
    }
   ],
   "source": [
    "model.summary()"
   ]
  },
  {
   "cell_type": "code",
   "execution_count": 21,
   "metadata": {},
   "outputs": [],
   "source": [
    "model.compile(optimizer='sgd',metrics=['accuracy'],loss='categorical_crossentropy')"
   ]
  },
  {
   "cell_type": "code",
   "execution_count": 22,
   "metadata": {},
   "outputs": [],
   "source": [
    "x_train=x.reshape(x.shape[0],28,28,1)"
   ]
  },
  {
   "cell_type": "code",
   "execution_count": 25,
   "metadata": {},
   "outputs": [
    {
     "name": "stdout",
     "output_type": "stream",
     "text": [
      "Train on 48000 samples, validate on 12000 samples\n",
      "Epoch 1/10\n",
      "48000/48000 [==============================] - 21s 438us/step - loss: 0.7231 - accuracy: 0.7457 - val_loss: 0.6349 - val_accuracy: 0.7645\n",
      "Epoch 2/10\n",
      "48000/48000 [==============================] - 21s 440us/step - loss: 0.6982 - accuracy: 0.7545 - val_loss: 0.6173 - val_accuracy: 0.7722\n",
      "Epoch 3/10\n",
      "48000/48000 [==============================] - 21s 440us/step - loss: 0.6810 - accuracy: 0.7584 - val_loss: 0.6028 - val_accuracy: 0.7742\n",
      "Epoch 4/10\n",
      "48000/48000 [==============================] - 22s 452us/step - loss: 0.6600 - accuracy: 0.7647 - val_loss: 0.5905 - val_accuracy: 0.7791\n",
      "Epoch 5/10\n",
      "48000/48000 [==============================] - 25s 518us/step - loss: 0.6451 - accuracy: 0.7679 - val_loss: 0.5801 - val_accuracy: 0.7842\n",
      "Epoch 6/10\n",
      "48000/48000 [==============================] - 23s 485us/step - loss: 0.6347 - accuracy: 0.7712 - val_loss: 0.5669 - val_accuracy: 0.7897\n",
      "Epoch 7/10\n",
      "48000/48000 [==============================] - 22s 448us/step - loss: 0.6216 - accuracy: 0.7738 - val_loss: 0.5585 - val_accuracy: 0.7918\n",
      "Epoch 8/10\n",
      "48000/48000 [==============================] - 21s 446us/step - loss: 0.6092 - accuracy: 0.7791 - val_loss: 0.5495 - val_accuracy: 0.7951\n",
      "Epoch 9/10\n",
      "48000/48000 [==============================] - 21s 434us/step - loss: 0.6006 - accuracy: 0.7818 - val_loss: 0.5416 - val_accuracy: 0.7990\n",
      "Epoch 10/10\n",
      "48000/48000 [==============================] - 21s 444us/step - loss: 0.5910 - accuracy: 0.7851 - val_loss: 0.5356 - val_accuracy: 0.8004\n"
     ]
    }
   ],
   "source": [
    "history = model.fit(x_train,y,epochs=10,validation_split=0.2,batch_size=1000)"
   ]
  },
  {
   "cell_type": "code",
   "execution_count": null,
   "metadata": {},
   "outputs": [],
   "source": []
  }
 ],
 "metadata": {
  "kernelspec": {
   "display_name": "Python 3",
   "language": "python",
   "name": "python3"
  },
  "language_info": {
   "codemirror_mode": {
    "name": "ipython",
    "version": 3
   },
   "file_extension": ".py",
   "mimetype": "text/x-python",
   "name": "python",
   "nbconvert_exporter": "python",
   "pygments_lexer": "ipython3",
   "version": "3.7.4"
  }
 },
 "nbformat": 4,
 "nbformat_minor": 2
}
